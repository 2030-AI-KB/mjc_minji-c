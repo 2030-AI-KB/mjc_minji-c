{
 "cells": [
  {
   "cell_type": "markdown",
   "id": "b26f810c",
   "metadata": {},
   "source": [
   
   ]
  },
  {
   "cell_type": "markdown",
   "id": "48239ef2",
   "metadata": {},
   "source": [
    "#Missoin_1.  구구단프로그램을 작성해주세요. 단을 입력하면 입력받은 단까지 모두 출력해주세요."
   ]
  },
  {
   "cell_type": "code",
   "execution_count": 25,
   "id": "4e5089ce",
   "metadata": {},
   "outputs": [
    {
     "name": "stdout",
     "output_type": "stream",
     "text": [
      "몇 단까지 출력할까요? 1\n",
      "1단 출력\n",
      "1 x 1 = 1\n",
      "1 x 2 = 2\n",
      "1 x 3 = 3\n",
      "1 x 4 = 4\n",
      "1 x 5 = 5\n",
      "1 x 6 = 6\n",
      "1 x 7 = 7\n",
      "1 x 8 = 8\n",
      "1 x 9 = 9\n",
      "\n"
     ]
    }
   ],
   "source": [
    "def gugudan(num):\n",
    "    for i in range(1, num+1):\n",
    "        print(f\"{i}단 출력\")\n",
    "        for j in range(1, 10):\n",
    "            print(f\"{i} x {j} = {i*j}\")\n",
    "        print()  \n",
    "        \n",
    "num = int(input(\"몇 단까지 출력할까요? \"))\n",
    "gugudan(num)"
   ]
  },
  {
   "cell_type": "markdown",
   "id": "28424ca6",
   "metadata": {},
   "source": [
    "#Missoin_2.  20개의 정수를 입력 받아서 짝수와 홀수를 구분하여 저장해주세요. \n",
    "#  저장된 수의 총합이 얼마인지와 짝수의 합이 큰지 홀수의 합이 큰지를 알려주는 코드를 작성해주세요"
   ]
  },
  {
   "cell_type": "code",
   "execution_count": 6,
   "id": "6669231f",
   "metadata": {},
   "outputs": [
    {
     "name": "stdout",
     "output_type": "stream",
     "text": [
      "정수를 입력하세요: 3\n",
      "정수를 입력하세요: 4\n"
     ]
    },
    {
     "ename": "KeyboardInterrupt",
     "evalue": "Interrupted by user",
     "output_type": "error",
     "traceback": [
      "\u001b[1;31m---------------------------------------------------------------------------\u001b[0m",
      "\u001b[1;31mKeyboardInterrupt\u001b[0m                         Traceback (most recent call last)",
      "Cell \u001b[1;32mIn[6], line 5\u001b[0m\n\u001b[0;32m      2\u001b[0m odd_numbers \u001b[38;5;241m=\u001b[39m []\n\u001b[0;32m      4\u001b[0m \u001b[38;5;28;01mfor\u001b[39;00m _ \u001b[38;5;129;01min\u001b[39;00m \u001b[38;5;28mrange\u001b[39m(\u001b[38;5;241m20\u001b[39m):\n\u001b[1;32m----> 5\u001b[0m     num \u001b[38;5;241m=\u001b[39m \u001b[38;5;28mint\u001b[39m(\u001b[38;5;28;43minput\u001b[39;49m\u001b[43m(\u001b[49m\u001b[38;5;124;43m\"\u001b[39;49m\u001b[38;5;124;43m정수를 입력하세요: \u001b[39;49m\u001b[38;5;124;43m\"\u001b[39;49m\u001b[43m)\u001b[49m)\n\u001b[0;32m      7\u001b[0m     \u001b[38;5;28;01mif\u001b[39;00m num \u001b[38;5;241m%\u001b[39m \u001b[38;5;241m2\u001b[39m \u001b[38;5;241m==\u001b[39m \u001b[38;5;241m0\u001b[39m:\n\u001b[0;32m      8\u001b[0m         even_numbers\u001b[38;5;241m.\u001b[39mappend(num)\n",
      "File \u001b[1;32m~\\anaconda3\\lib\\site-packages\\ipykernel\\kernelbase.py:1175\u001b[0m, in \u001b[0;36mKernel.raw_input\u001b[1;34m(self, prompt)\u001b[0m\n\u001b[0;32m   1171\u001b[0m \u001b[38;5;28;01mif\u001b[39;00m \u001b[38;5;129;01mnot\u001b[39;00m \u001b[38;5;28mself\u001b[39m\u001b[38;5;241m.\u001b[39m_allow_stdin:\n\u001b[0;32m   1172\u001b[0m     \u001b[38;5;28;01mraise\u001b[39;00m StdinNotImplementedError(\n\u001b[0;32m   1173\u001b[0m         \u001b[38;5;124m\"\u001b[39m\u001b[38;5;124mraw_input was called, but this frontend does not support input requests.\u001b[39m\u001b[38;5;124m\"\u001b[39m\n\u001b[0;32m   1174\u001b[0m     )\n\u001b[1;32m-> 1175\u001b[0m \u001b[38;5;28;01mreturn\u001b[39;00m \u001b[38;5;28;43mself\u001b[39;49m\u001b[38;5;241;43m.\u001b[39;49m\u001b[43m_input_request\u001b[49m\u001b[43m(\u001b[49m\n\u001b[0;32m   1176\u001b[0m \u001b[43m    \u001b[49m\u001b[38;5;28;43mstr\u001b[39;49m\u001b[43m(\u001b[49m\u001b[43mprompt\u001b[49m\u001b[43m)\u001b[49m\u001b[43m,\u001b[49m\n\u001b[0;32m   1177\u001b[0m \u001b[43m    \u001b[49m\u001b[38;5;28;43mself\u001b[39;49m\u001b[38;5;241;43m.\u001b[39;49m\u001b[43m_parent_ident\u001b[49m\u001b[43m[\u001b[49m\u001b[38;5;124;43m\"\u001b[39;49m\u001b[38;5;124;43mshell\u001b[39;49m\u001b[38;5;124;43m\"\u001b[39;49m\u001b[43m]\u001b[49m\u001b[43m,\u001b[49m\n\u001b[0;32m   1178\u001b[0m \u001b[43m    \u001b[49m\u001b[38;5;28;43mself\u001b[39;49m\u001b[38;5;241;43m.\u001b[39;49m\u001b[43mget_parent\u001b[49m\u001b[43m(\u001b[49m\u001b[38;5;124;43m\"\u001b[39;49m\u001b[38;5;124;43mshell\u001b[39;49m\u001b[38;5;124;43m\"\u001b[39;49m\u001b[43m)\u001b[49m\u001b[43m,\u001b[49m\n\u001b[0;32m   1179\u001b[0m \u001b[43m    \u001b[49m\u001b[43mpassword\u001b[49m\u001b[38;5;241;43m=\u001b[39;49m\u001b[38;5;28;43;01mFalse\u001b[39;49;00m\u001b[43m,\u001b[49m\n\u001b[0;32m   1180\u001b[0m \u001b[43m\u001b[49m\u001b[43m)\u001b[49m\n",
      "File \u001b[1;32m~\\anaconda3\\lib\\site-packages\\ipykernel\\kernelbase.py:1217\u001b[0m, in \u001b[0;36mKernel._input_request\u001b[1;34m(self, prompt, ident, parent, password)\u001b[0m\n\u001b[0;32m   1214\u001b[0m             \u001b[38;5;28;01mbreak\u001b[39;00m\n\u001b[0;32m   1215\u001b[0m \u001b[38;5;28;01mexcept\u001b[39;00m \u001b[38;5;167;01mKeyboardInterrupt\u001b[39;00m:\n\u001b[0;32m   1216\u001b[0m     \u001b[38;5;66;03m# re-raise KeyboardInterrupt, to truncate traceback\u001b[39;00m\n\u001b[1;32m-> 1217\u001b[0m     \u001b[38;5;28;01mraise\u001b[39;00m \u001b[38;5;167;01mKeyboardInterrupt\u001b[39;00m(\u001b[38;5;124m\"\u001b[39m\u001b[38;5;124mInterrupted by user\u001b[39m\u001b[38;5;124m\"\u001b[39m) \u001b[38;5;28;01mfrom\u001b[39;00m \u001b[38;5;28mNone\u001b[39m\n\u001b[0;32m   1218\u001b[0m \u001b[38;5;28;01mexcept\u001b[39;00m \u001b[38;5;167;01mException\u001b[39;00m:\n\u001b[0;32m   1219\u001b[0m     \u001b[38;5;28mself\u001b[39m\u001b[38;5;241m.\u001b[39mlog\u001b[38;5;241m.\u001b[39mwarning(\u001b[38;5;124m\"\u001b[39m\u001b[38;5;124mInvalid Message:\u001b[39m\u001b[38;5;124m\"\u001b[39m, exc_info\u001b[38;5;241m=\u001b[39m\u001b[38;5;28;01mTrue\u001b[39;00m)\n",
      "\u001b[1;31mKeyboardInterrupt\u001b[0m: Interrupted by user"
     ]
    }
   ],
   "source": [
    "even_numbers = []\n",
    "odd_numbers = []\n",
    "\n",
    "#args\n",
    "\n",
    "for _ in range(20):\n",
    "    num = int(input(\"정수를 입력하세요: \"))\n",
    "    \n",
    "    if num % 2 == 0:\n",
    "        even_numbers.append(num)\n",
    "    else:\n",
    "        odd_numbers.append(num)\n",
    "\n",
    "total_sum = sum(even_numbers + odd_numbers)\n",
    "even_sum = sum(even_numbers)\n",
    "odd_sum = sum(odd_numbers)\n",
    "\n",
    "print(\"저장된 수의 총합:\", total_sum)\n",
    "print(\"짝수의 합이 큽니다.\" if even_sum > odd_sum else \"홀수의 합이 큽니다.\")"
   ]
  },
  {
   "cell_type": "markdown",
   "id": "2c993cdb",
   "metadata": {},
   "source": [
    "#Mission_3. 오늘의 기분을 입력받아서 입력한 기분 값이 10를 넘으면 그 기분에 맞는 내용을 알려주는 코드를 작성해주세요."
   ]
  },
  {
   "cell_type": "code",
   "execution_count": 20,
   "id": "b7017e16",
   "metadata": {},
   "outputs": [
    {
     "name": "stdout",
     "output_type": "stream",
     "text": [
      "오늘의 기분을 숫자로 입력하세요: 88\n",
      "행복합니다.\n"
     ]
    }
   ],
   "source": [
    "mood = int(input(\"오늘의 기분을 숫자로 입력하세요: \"))\n",
    "\n",
    "if mood > 10:\n",
    "    print(\"행복합니다.\")\n",
    "    # 기분에 맞는 내용 출력\n",
    "else:\n",
    "    pass"
   ]
  },
  {
   "cell_type": "markdown",
   "id": "7998af1d",
   "metadata": {},
   "source": [
    "#Mission_4. 아래의 코드를 보고 입력받은 5개의 성적을 기준을 작성하여 코드를 완성해주세요..\n",
    "#           단, 아래의 코드는 변경이 불가능합니다.\n",
    "\n",
    "mx_index = scores.index(mx_score) + 1\n",
    "min_index = scores.index(min_score) + 1\n",
    "print( \"입력한 성적중 \"+ str(mx_index) + \"번째 점수가 가장 높은 \"+ str(mx_score) + \"입니다.\")\n",
    "print( \"입력한 성적중 \"+ str(min_index) + \"번째 점수가 가장 낮은 \"+ str(min_score) + \"입니다.\")\n",
    "# 입력한 성적중 #번째 점수가 가장 높은 #점입니다."
   ]
  },
  {
   "cell_type": "code",
   "execution_count": 23,
   "id": "8afa5d06",
   "metadata": {},
   "outputs": [
    {
     "ename": "KeyboardInterrupt",
     "evalue": "Interrupted by user",
     "output_type": "error",
     "traceback": [
      "\u001b[1;31m---------------------------------------------------------------------------\u001b[0m",
      "\u001b[1;31mKeyboardInterrupt\u001b[0m                         Traceback (most recent call last)",
      "Cell \u001b[1;32mIn[23], line 4\u001b[0m\n\u001b[0;32m      1\u001b[0m scores \u001b[38;5;241m=\u001b[39m []  \u001b[38;5;66;03m# 성적을 저장할 리스트\u001b[39;00m\n\u001b[0;32m      3\u001b[0m \u001b[38;5;28;01mfor\u001b[39;00m _ \u001b[38;5;129;01min\u001b[39;00m \u001b[38;5;28mrange\u001b[39m(\u001b[38;5;241m5\u001b[39m):\n\u001b[1;32m----> 4\u001b[0m     score \u001b[38;5;241m=\u001b[39m \u001b[38;5;28mint\u001b[39m(\u001b[38;5;28;43minput\u001b[39;49m\u001b[43m(\u001b[49m\u001b[38;5;124;43m\"\u001b[39;49m\u001b[38;5;124;43m성적을 입력하세요: \u001b[39;49m\u001b[38;5;124;43m\"\u001b[39;49m\u001b[43m)\u001b[49m)\n\u001b[0;32m      5\u001b[0m     scores\u001b[38;5;241m.\u001b[39mappend(score)\n\u001b[0;32m      7\u001b[0m mx_score \u001b[38;5;241m=\u001b[39m \u001b[38;5;28mmax\u001b[39m(scores)  \u001b[38;5;66;03m# 가장 높은 점수\u001b[39;00m\n",
      "File \u001b[1;32m~\\anaconda3\\lib\\site-packages\\ipykernel\\kernelbase.py:1175\u001b[0m, in \u001b[0;36mKernel.raw_input\u001b[1;34m(self, prompt)\u001b[0m\n\u001b[0;32m   1171\u001b[0m \u001b[38;5;28;01mif\u001b[39;00m \u001b[38;5;129;01mnot\u001b[39;00m \u001b[38;5;28mself\u001b[39m\u001b[38;5;241m.\u001b[39m_allow_stdin:\n\u001b[0;32m   1172\u001b[0m     \u001b[38;5;28;01mraise\u001b[39;00m StdinNotImplementedError(\n\u001b[0;32m   1173\u001b[0m         \u001b[38;5;124m\"\u001b[39m\u001b[38;5;124mraw_input was called, but this frontend does not support input requests.\u001b[39m\u001b[38;5;124m\"\u001b[39m\n\u001b[0;32m   1174\u001b[0m     )\n\u001b[1;32m-> 1175\u001b[0m \u001b[38;5;28;01mreturn\u001b[39;00m \u001b[38;5;28;43mself\u001b[39;49m\u001b[38;5;241;43m.\u001b[39;49m\u001b[43m_input_request\u001b[49m\u001b[43m(\u001b[49m\n\u001b[0;32m   1176\u001b[0m \u001b[43m    \u001b[49m\u001b[38;5;28;43mstr\u001b[39;49m\u001b[43m(\u001b[49m\u001b[43mprompt\u001b[49m\u001b[43m)\u001b[49m\u001b[43m,\u001b[49m\n\u001b[0;32m   1177\u001b[0m \u001b[43m    \u001b[49m\u001b[38;5;28;43mself\u001b[39;49m\u001b[38;5;241;43m.\u001b[39;49m\u001b[43m_parent_ident\u001b[49m\u001b[43m[\u001b[49m\u001b[38;5;124;43m\"\u001b[39;49m\u001b[38;5;124;43mshell\u001b[39;49m\u001b[38;5;124;43m\"\u001b[39;49m\u001b[43m]\u001b[49m\u001b[43m,\u001b[49m\n\u001b[0;32m   1178\u001b[0m \u001b[43m    \u001b[49m\u001b[38;5;28;43mself\u001b[39;49m\u001b[38;5;241;43m.\u001b[39;49m\u001b[43mget_parent\u001b[49m\u001b[43m(\u001b[49m\u001b[38;5;124;43m\"\u001b[39;49m\u001b[38;5;124;43mshell\u001b[39;49m\u001b[38;5;124;43m\"\u001b[39;49m\u001b[43m)\u001b[49m\u001b[43m,\u001b[49m\n\u001b[0;32m   1179\u001b[0m \u001b[43m    \u001b[49m\u001b[43mpassword\u001b[49m\u001b[38;5;241;43m=\u001b[39;49m\u001b[38;5;28;43;01mFalse\u001b[39;49;00m\u001b[43m,\u001b[49m\n\u001b[0;32m   1180\u001b[0m \u001b[43m\u001b[49m\u001b[43m)\u001b[49m\n",
      "File \u001b[1;32m~\\anaconda3\\lib\\site-packages\\ipykernel\\kernelbase.py:1217\u001b[0m, in \u001b[0;36mKernel._input_request\u001b[1;34m(self, prompt, ident, parent, password)\u001b[0m\n\u001b[0;32m   1214\u001b[0m             \u001b[38;5;28;01mbreak\u001b[39;00m\n\u001b[0;32m   1215\u001b[0m \u001b[38;5;28;01mexcept\u001b[39;00m \u001b[38;5;167;01mKeyboardInterrupt\u001b[39;00m:\n\u001b[0;32m   1216\u001b[0m     \u001b[38;5;66;03m# re-raise KeyboardInterrupt, to truncate traceback\u001b[39;00m\n\u001b[1;32m-> 1217\u001b[0m     \u001b[38;5;28;01mraise\u001b[39;00m \u001b[38;5;167;01mKeyboardInterrupt\u001b[39;00m(\u001b[38;5;124m\"\u001b[39m\u001b[38;5;124mInterrupted by user\u001b[39m\u001b[38;5;124m\"\u001b[39m) \u001b[38;5;28;01mfrom\u001b[39;00m \u001b[38;5;28mNone\u001b[39m\n\u001b[0;32m   1218\u001b[0m \u001b[38;5;28;01mexcept\u001b[39;00m \u001b[38;5;167;01mException\u001b[39;00m:\n\u001b[0;32m   1219\u001b[0m     \u001b[38;5;28mself\u001b[39m\u001b[38;5;241m.\u001b[39mlog\u001b[38;5;241m.\u001b[39mwarning(\u001b[38;5;124m\"\u001b[39m\u001b[38;5;124mInvalid Message:\u001b[39m\u001b[38;5;124m\"\u001b[39m, exc_info\u001b[38;5;241m=\u001b[39m\u001b[38;5;28;01mTrue\u001b[39;00m)\n",
      "\u001b[1;31mKeyboardInterrupt\u001b[0m: Interrupted by user"
     ]
    }
   ],
   "source": [
    "scores = []  # 성적을 저장할 리스트\n",
    "\n",
    "for _ in range(5):\n",
    "    score = int(input(\"성적을 입력하세요: \"))\n",
    "    scores.append(score)\n",
    "\n",
    "mx_score = max(scores)  # 가장 높은 점수\n",
    "min_score = min(scores)  # 가장 낮은 점수\n",
    "\n",
    "mx_index = scores.index(mx_score) + 1\n",
    "min_index = scores.index(min_score) + 1\n",
    "\n",
    "print(\"입력한 성적중 \" + str(mx_index) + \"번째 점수가 가장 높은 \" + str(mx_score) + \"입니다.\")\n",
    "print(\"입력한 성적중 \" + str(min_index) + \"번째 점수가 가장 낮은 \" + str(min_score) + \"입니다.\")"
   ]
  },
  {
   "cell_type": "code",
   "execution_count": null,
   "id": "a706559a",
   "metadata": {},
   "outputs": [],
   "source": [
    "#Mission_5. 아래의 Song의 내용을 분석할 수 있는 코드를 작성하여 정략적 수치를 통해 의견을 작성해주세요..\n",
    "\n",
    "# [의견 작성]\n",
    "#\n",
    "\n",
    "\n",
    "song = \"\"\"Fuck you and your mom and your sister and your job and your broke ass car and that shit you call art\n",
    "       fuck you And your friends that i'll never see again everybody but your dog you can all FUCK OFF i swear i meant to mean the best when it ended even try to bite my tongue when you start shit\n",
    "       now you're texting all my friends asking questions hey never even liked you in the first place\"\"\""
   ]
  },
  {
   "cell_type": "code",
   "execution_count": 19,
   "id": "b3e02b75",
   "metadata": {},
   "outputs": [
    {
     "name": "stdout",
     "output_type": "stream",
     "text": [
      "자주 'you'라는 단어가 사용되었습니다. 가사의 총 길이는 399자이며, 단어 수는 79개입니다.\n"
     ]
    }
   ],
   "source": [
    "# 문자열에서 공백을 제거하여 단어의 수를 계산하는 함수\n",
    "def count_words(text):\n",
    "    words = text.split()\n",
    "    return len(words)\n",
    "\n",
    "# 문자열에서 \"fuck\"이 등장하는 횟수를 계산하는 함수\n",
    "def count_fucks(text):\n",
    "    lower_text = text.lower()  # 대소문자 구분을 없애기 위해 모두 소문자로 변환\n",
    "    return lower_text.count(\"fuck\")\n",
    "\n",
    "# 문자열에서 \"you\"가 등장하는 횟수를 계산하는 함수\n",
    "def count_you(text):\n",
    "    lower_text = text.lower()\n",
    "    return lower_text.count(\"you\")\n",
    "\n",
    "# 문자열에서 \"best\"가 등장하는 횟수를 계산하는 함수\n",
    "def count_best(text):\n",
    "    lower_text = text.lower()\n",
    "    return lower_text.count(\"best\")\n",
    "\n",
    "# 문자열의 길이를 계산하는 함수\n",
    "def calculate_length(text):\n",
    "    return len(text)\n",
    "\n",
    "song = \"\"\"Fuck you and your mom and your sister and your job and your broke ass car and that shit you call art\n",
    "       fuck you And your friends that i'll never see again everybody but your dog you can all FUCK OFF i swear i meant to mean the best when it ended even try to bite my tongue when you start shit\n",
    "       now you're texting all my friends asking questions hey never even liked you in the first place\"\"\"\n",
    "\n",
    "# 분석 결과 계산\n",
    "word_count = count_words(song)\n",
    "fuck_count = count_fucks(song)\n",
    "you_count = count_you(song)\n",
    "best_count = count_best(song)\n",
    "song_length = calculate_length(song)\n",
    "\n",
    "# 의견 작성\n",
    "opinion = \"\"\n",
    "\n",
    "if fuck_count > 5:\n",
    "    opinion += \"많은 욕이 사용되었습니다. \"\n",
    "if you_count > 3:\n",
    "    opinion += \"자주 'you'라는 단어가 사용되었습니다. \"\n",
    "if best_count == 0:\n",
    "    opinion += \"'best'라는 단어가 사용되지 않았습니다. \"\n",
    "\n",
    "opinion += f\"가사의 총 길이는 {song_length}자이며, 단어 수는 {word_count}개입니다.\"\n",
    "\n",
    "print(opinion)"
   ]
  },
  {
   "cell_type": "code",
   "execution_count": null,
   "id": "7b27922f",
   "metadata": {},
   "outputs": [],
   "source": [
    "#Mission_6. 이름과 점수를 입력하면 학점을 반환하여 저장하는 코드를 작성해주세요."
   ]
  },
  {
   "cell_type": "code",
   "execution_count": 18,
   "id": "927f999d",
   "metadata": {},
   "outputs": [
    {
     "name": "stdout",
     "output_type": "stream",
     "text": [
      "이름을 입력하세요: 김모모\n",
      "점수를 입력하세요: 55\n",
      "55 학생의 학점은 F입니다.\n"
     ]
    }
   ],
   "source": [
    "def calculate_grade(score):\n",
    "    if score > 89:\n",
    "        return 'A'\n",
    "    elif score > 79:\n",
    "        return 'B'\n",
    "    elif score > 69:\n",
    "        return 'C'\n",
    "    elif score > 59:\n",
    "        return 'D'\n",
    "    else:\n",
    "        return 'F'\n",
    "\n",
    "def save_grade(name, grade):\n",
    "   name = input(\"이름을 입력하세요: \")\n",
    "   score = float(input(\"점수를 입력하세요: \"))\n",
    "\n",
    "grade = calculate_grade(score)\n",
    "save_grade(name, grade)\n",
    "\n",
    "print(f'{name} 학생의 학점은 {grade}입니다.')"
   ]
  },
  {
   "cell_type": "code",
   "execution_count": 17,
   "id": "ee9b1001",
   "metadata": {},
   "outputs": [],
   "source": [
    "#Mission_7. 피보나치수열은 첫째 및 둘째 항이 1이며 그 뒤의 모든 항은 바로 앞 두 항의 합인 수열이다.\n",
    "#           수열을 코드로 작성해주세요."
   ]
  },
  {
   "cell_type": "code",
   "execution_count": null,
   "id": "7906d451",
   "metadata": {},
   "outputs": [],
   "source": [
    "def fibonacci_sequence(length):\n",
    "    sequence = [1, 1]  # 첫 번째와 두 번째 항을 초기화\n",
    "\n",
    "    # 입력한 길이에 맞게 피보나치 수열 생성\n",
    "    for i in range(2, length):\n",
    "        next_number = sequence[i-1] + sequence[i-2]\n",
    "        sequence.append(next_number)\n",
    "\n",
    "    return sequence\n",
    "\n",
    "# 사용자로부터 피보나치 수열의 길이를 입력받음\n",
    "length = int(input(\"피보나치 수열의 길이를 입력하세요: \"))\n",
    "\n",
    "# 피보나치 수열 생성 및 출력\n",
    "fib_sequence = fibonacci_sequence(length)\n",
    "print(fib_sequence)"
   ]
  },
  {
   "cell_type": "code",
   "execution_count": null,
   "id": "188650b1",
   "metadata": {},
   "outputs": [],
   "source": [
    "#Missoin_8. 아래의 내용을 보고 결과를 출력하는 코드를 작성해주세요.\n",
    "#'''10보다 작은 자연수 중에서 3 또는 5의 배수는 3, 5, 6, 9 이고, 이것을 모두 더하면 23입니다.\n",
    "#   1000보다 작은 자연수 중에서 3 또는 5의 배수를 모두 더하면 얼마일까요?'''"
   ]
  },
  {
   "cell_type": "code",
   "execution_count": null,
   "id": "12b0b48a",
   "metadata": {},
   "outputs": [],
   "source": [
    "def sum_of_multiples(n):\n",
    "    total_sum = 0\n",
    "\n",
    "    for i in range(n):\n",
    "        if i % 3 == 0 or i % 5 == 0:\n",
    "            total_sum += i\n",
    "\n",
    "    return total_sum\n",
    "\n",
    "# 10보다 작은 자연수 중 3 또는 5의 배수의 합 계산\n",
    "result = sum_of_multiples(10)\n",
    "print(\"10보다 작은 자연수 중 3 또는 5의 배수의 합:\", result)\n",
    "\n",
    "# 1000보다 작은 자연수 중 3 또는 5의 배수의 합 계산\n",
    "result = sum_of_multiples(1000)\n",
    "print(\"1000보다 작은 자연수 중 3 또는 5의 배수의 합:\", result)"
   ]
  },
  {
   "cell_type": "code",
   "execution_count": null,
   "id": "11881587",
   "metadata": {},
   "outputs": [],
   "source": [
    "#Mission_9. 가위,바위,보 게임을 만들어주세요.. (이긴 횟수를 알려주세요.)"
   ]
  },
  {
   "cell_type": "code",
   "execution_count": null,
   "id": "57196b03",
   "metadata": {},
   "outputs": [],
   "source": [
    "import random\n",
    "\n",
    "def play_game():\n",
    "    choices = ['가위', '바위', '보']\n",
    "    win_count = 0\n",
    "\n",
    "    while True:\n",
    "        # 사용자의 선택 받기\n",
    "        user_choice = input(\"가위, 바위, 보 중 하나를 선택하세요 (끝내려면 '끝'을 입력): \")\n",
    "\n",
    "        # 게임 종료 조건 확인\n",
    "        if user_choice == '끝':\n",
    "            break\n",
    "\n",
    "        # 컴퓨터의 선택 무작위로 생성\n",
    "        computer_choice = random.choice(choices)\n",
    "\n",
    "        # 사용자와 컴퓨터의 선택 출력\n",
    "        print(\"사용자 선택:\", user_choice)\n",
    "        print(\"컴퓨터 선택:\", computer_choice)\n",
    "\n",
    "        # 승패 결정\n",
    "        if user_choice == computer_choice:\n",
    "            print(\"비겼습니다!\")\n",
    "        elif (\n",
    "            (user_choice == '가위' and computer_choice == '보') or\n",
    "            (user_choice == '바위' and computer_choice == '가위') or\n",
    "            (user_choice == '보' and computer_choice == '바위')\n",
    "        ):\n",
    "            print(\"이겼습니다!\")\n",
    "            win_count += 1\n",
    "        else:\n",
    "            print(\"졌습니다!\")\n",
    "\n",
    "        print()\n",
    "\n",
    "    return win_count\n",
    "\n",
    "# 게임 플레이 및 이긴 횟수 출력\n",
    "win_count = play_game()\n",
    "print(\"이긴 횟수:\", win_count)"
   ]
  },
  {
   "cell_type": "code",
   "execution_count": null,
   "id": "ae45fc90",
   "metadata": {},
   "outputs": [],
   "source": [
    "#Mission_10. 커피 자판기의 계산프로그램을 만들려고 합니다.(최대 15잔을 뽑을 수 있어요. 잔당 200원)\n",
    "#            돈을 값을 입력 받으면 커피를 뽑을 수 있는 잔수와 잔액을 알려주시면 됩니다. "
   ]
  },
  {
   "cell_type": "code",
   "execution_count": 22,
   "id": "7a4778f9",
   "metadata": {},
   "outputs": [
    {
     "name": "stdout",
     "output_type": "stream",
     "text": [
      "돈을 입력하세요: 2000\n",
      "커피를 뽑을 수 있는 잔수: 10 잔\n",
      "잔액: 0 원\n"
     ]
    }
   ],
   "source": [
    "def coffee_vending_machine(money):\n",
    "    price_per_cup = 200\n",
    "    max_cups = 15\n",
    "\n",
    "    max_affordable_cups = min(money // price_per_cup, max_cups)\n",
    "    remaining_money = money - (max_affordable_cups * price_per_cup)\n",
    "\n",
    "    return max_affordable_cups, remaining_money\n",
    "\n",
    "# 사용자로부터 돈 입력 받기\n",
    "money = int(input(\"돈을 입력하세요: \"))\n",
    "\n",
    "# 커피 자판기에서 커피 뽑을 수 있는 잔수와 잔액 계산\n",
    "cups, change = coffee_vending_machine(money)\n",
    "\n",
    "# 결과 출력\n",
    "print(\"커피를 뽑을 수 있는 잔수:\", cups, \"잔\")\n",
    "print(\"잔액:\", change, \"원\")"
   ]
  },
  {
   "cell_type": "code",
   "execution_count": null,
   "id": "9c551fd5",
   "metadata": {},
   "outputs": [],
   "source": []
  },
  {
   "cell_type": "code",
   "execution_count": null,
   "id": "3a416686",
   "metadata": {},
   "outputs": [],
   "source": []
  },
  {
   "cell_type": "code",
   "execution_count": null,
   "id": "0aa5554e",
   "metadata": {},
   "outputs": [],
   "source": []
  }
 ],
 "metadata": {
  "kernelspec": {
   "display_name": "Python 3 (ipykernel)",
   "language": "python",
   "name": "python3"
  },
  "language_info": {
   "codemirror_mode": {
    "name": "ipython",
    "version": 3
   },
   "file_extension": ".py",
   "mimetype": "text/x-python",
   "name": "python",
   "nbconvert_exporter": "python",
   "pygments_lexer": "ipython3",
   "version": "3.10.9"
  }
 },
 "nbformat": 4,
 "nbformat_minor": 5
}
